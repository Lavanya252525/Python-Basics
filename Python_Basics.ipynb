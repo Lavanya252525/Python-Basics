{
  "nbformat": 4,
  "nbformat_minor": 0,
  "metadata": {
    "colab": {
      "provenance": []
    },
    "kernelspec": {
      "name": "python3",
      "display_name": "Python 3"
    },
    "language_info": {
      "name": "python"
    }
  },
  "cells": [
    {
      "cell_type": "markdown",
      "source": [
        "**Python** **Basics** **Assessment**"
      ],
      "metadata": {
        "id": "yusZJTUnG9J9"
      }
    },
    {
      "cell_type": "markdown",
      "source": [
        "1. What is python, and why is it popular?\n",
        " - Python is a programming language used worldwide by programmers and developers to perform certain tasks.\n",
        " - It is very easy to understand and write, making it popular. Also it is very compatible and versatile for usage due to its wide range of libraries and programming paradigms. Along with it has a large has a large and active community.\n",
        "2. What is an interpreter in python?\n",
        " - An interpreter in python is a program that translates and executes python code line by line. Python uses an interpreter instead of a complier, which results in ease to compile a program in python as you don't have to compile the whole program at once.\n",
        "3. What are pre-defined keywords in python?\n",
        " - Pre-defined keywords are specific words that hold specific meaning as well as specific functions/ purpose such as print(), type(), input() and many more.\n",
        "4. Can keywords be used as variable names?\n",
        " - No, one can not use keywords as variable names as keywords hold specific functions. One could only use a keyword that starts with a letter(alphabet) or unerscore and it should not be a keyword or should not contain any special character.\n",
        "5. What is mutability in python?\n",
        " - Mutability refers to the ability of any object/container to change it's state or value after it has been created.\n",
        "6. Why are lists mutable, but tuples are immutable?\n",
        " - In python, lists are mutable whereas tuples are immutable because they are designed for different purposes. Lists are designed for flexible and dynamic data and on the other hand Tuples are designed for safety, performance and used in situations that need fixed data(like keys in a dictionary).\n",
        "7. What is the difference between \"==\" and \"is\" operators in python?\n",
        " - \"==\" Operator is a comparison operator and is used to check if the value of two variables are the same.\n",
        " - \"is\" Operator is an identity operator which is used to check if two variables point to the same object in the memory.\n",
        "8. What are logical operators in python?\n",
        " - Logical operators in python are special keywords (AND, OR, NOT) used to combine or modify boolean expressions and return a True or False results based on logic.\n",
        "9. What is type casting in python?\n",
        " - Type Casting is the process of changing the data type of a value/object. It is done because while executing/computation using operators, there could be a mismatch between the two data types.\n",
        "10. What is the difference between implicit and explicit type casting?\n",
        " - Implicit type casting is performed automatically by python while performing operations involving different data types.\n",
        " - Explicit type casting is done manually by the programmer using functions like- int(), float(), str(), etc.\n",
        "11. What is the purpose of conditional statements in python?\n",
        " - The purpose of conditional statements in python is to make decisions in a program based on certain conditions/predictions. They allow the program to run different blocks of code depending on wether the condition is True or False. This helps the program behave differently in different situations- just like how we make decisions in real life.\n",
        "12. How does the elif statement work?\n",
        " - Elif statement is used when one has multiple cases of conditions. Python checks conditions from top to bottom. as soon as it finds a condition that is True, it executes that block and skips the rest. If none of the conditions are true, the else block (if present) runs.\n",
        "13. What is the difference between for and while loops?\n",
        " - While loop statement repeatedly execute a block of code until a condition is met. While loops are based on a condition and the syntax is- While condition:.\n",
        " - For loop statement iterate over a sequence of elements i.e Strings. List, Range, etc. Syntax for For loop statement is- for item in sequence:.\n",
        "14. Describe a scenario where a while loop is more suitable than a for loop.\n",
        " - A while loop is more suitable when you don't know how many times something will happen- like waiting for the correct i.e Asking a user for the correct password or their email. Here, You don't know how many attempts the user will need and the while loop keeps running until the correct password is entered.\n",
        " - A For loop isn't ideal here because it runs a fixed number of times and you want the loop to continue as long as a condition is not met.\n"
      ],
      "metadata": {
        "id": "TtZNrQoLHCJo"
      }
    },
    {
      "cell_type": "markdown",
      "source": [
        "**Practical** **Questions**"
      ],
      "metadata": {
        "id": "Qknzrmb456DX"
      }
    },
    {
      "cell_type": "markdown",
      "source": [
        "1. Write a python program to print \"Hello, World!\""
      ],
      "metadata": {
        "id": "JAz8t3Fb54nw"
      }
    },
    {
      "cell_type": "code",
      "source": [
        "print(\"Hello, World!\")"
      ],
      "metadata": {
        "colab": {
          "base_uri": "https://localhost:8080/"
        },
        "id": "voH0rH1Z6wyJ",
        "outputId": "15799aee-5b6e-41b5-b7a5-f606b43cd0dd"
      },
      "execution_count": 2,
      "outputs": [
        {
          "output_type": "stream",
          "name": "stdout",
          "text": [
            "Hello, World!\n"
          ]
        }
      ]
    },
    {
      "cell_type": "markdown",
      "source": [
        "2. Write a python program that displays your name and age."
      ],
      "metadata": {
        "id": "LkfrxaUH7SqO"
      }
    },
    {
      "cell_type": "code",
      "source": [
        "name = \"Lavanya\"\n",
        "age = 22\n",
        "print(name, age)"
      ],
      "metadata": {
        "colab": {
          "base_uri": "https://localhost:8080/"
        },
        "id": "clhuHm3O6_su",
        "outputId": "ada726d4-47f6-49a5-a869-7b7b8545cf76"
      },
      "execution_count": 4,
      "outputs": [
        {
          "output_type": "stream",
          "name": "stdout",
          "text": [
            "Lavanya 22\n"
          ]
        }
      ]
    },
    {
      "cell_type": "markdown",
      "source": [
        "3. Write code to print all the pre- defined keywords in python using the keyword library."
      ],
      "metadata": {
        "id": "EXOaSLAp8bW6"
      }
    },
    {
      "cell_type": "code",
      "source": [
        "import keyword\n",
        "keywords_list = keyword.kwlist\n",
        "print(\"python predefined keywords are:\")\n",
        "for kw in keywords_list:\n",
        "  print(kw)\n"
      ],
      "metadata": {
        "colab": {
          "base_uri": "https://localhost:8080/"
        },
        "id": "vbijxGoH9pH7",
        "outputId": "ec02ae33-984b-44ca-bcdb-99479a390c97"
      },
      "execution_count": 8,
      "outputs": [
        {
          "output_type": "stream",
          "name": "stdout",
          "text": [
            "python predefined keywords are:\n",
            "False\n",
            "None\n",
            "True\n",
            "and\n",
            "as\n",
            "assert\n",
            "async\n",
            "await\n",
            "break\n",
            "class\n",
            "continue\n",
            "def\n",
            "del\n",
            "elif\n",
            "else\n",
            "except\n",
            "finally\n",
            "for\n",
            "from\n",
            "global\n",
            "if\n",
            "import\n",
            "in\n",
            "is\n",
            "lambda\n",
            "nonlocal\n",
            "not\n",
            "or\n",
            "pass\n",
            "raise\n",
            "return\n",
            "try\n",
            "while\n",
            "with\n",
            "yield\n"
          ]
        }
      ]
    },
    {
      "cell_type": "markdown",
      "source": [
        "4. Write a program that checks if a given word is a Python keyword."
      ],
      "metadata": {
        "id": "5oNiQCjU_Si1"
      }
    },
    {
      "cell_type": "code",
      "source": [
        "import keyword\n",
        "\n",
        "def is_keyword(word):\n",
        "    return keyword.iskeyword(word)\n",
        "word = input(\"Enter a word to check if it's a Python keyword: \").strip()\n",
        "if is_keyword(word):\n",
        "    print(f\"'{word}' is a Python keyword.\")\n",
        "else:\n",
        "    print(f\"'{word}' is NOT a Python keyword.\")"
      ],
      "metadata": {
        "id": "qTzxjZZSA8Jf"
      },
      "execution_count": null,
      "outputs": []
    },
    {
      "cell_type": "markdown",
      "source": [
        "5. Create a list and tuple in python, and demonstrate how attempting to change an element works differently for each."
      ],
      "metadata": {
        "id": "2aoD9avUAhUR"
      }
    },
    {
      "cell_type": "markdown",
      "source": [
        "6. Write a function to demonstrate the behaviour of mutable and imutable arguments."
      ],
      "metadata": {
        "id": "n1K-1ZFf_Rdm"
      }
    },
    {
      "cell_type": "code",
      "source": [
        "my_list = [1, 2, 3, \"lamp\", \"table\"]\n",
        "#List are mutable in nature so:\n",
        "my_list[3]= \"Pen\"\n",
        "my_list\n",
        "#it will change the str in the memory box from lamp to pen but Str alone are immutable therefore\n",
        "b=\"Pwskills\" #now if I want to replace the \"w\"\n",
        "b[1] = \"4\" #it will throw an error."
      ],
      "metadata": {
        "id": "YXhGn247D6w6"
      },
      "execution_count": null,
      "outputs": []
    },
    {
      "cell_type": "markdown",
      "source": [
        "7. Write a program that performs basic arithmetic operations on two user-input number."
      ],
      "metadata": {
        "id": "aGJ664pBSMBP"
      }
    },
    {
      "cell_type": "code",
      "source": [
        "num1 = (input(\"enter your first number:\"))\n",
        "num2 = (input(\"enter your second number:\"))\n",
        "addition = int(num1) + int(num2)\n",
        "subtraction = int(num1) - int(num2)\n",
        "multiplication = int(num1)*int(num2)\n",
        "division = int(num1)/int(num2)\n",
        "print(\"Addition\", addition)\n",
        "print(\"Subtraction\", subtraction)\n",
        "print(\"Multiplication\", multiplication)\n",
        "print(\"Division\", division)\n"
      ],
      "metadata": {
        "id": "SfOVmts7TC0k"
      },
      "execution_count": null,
      "outputs": []
    },
    {
      "cell_type": "markdown",
      "source": [
        "8. Write a program to demonstrate the use of logical operators."
      ],
      "metadata": {
        "id": "QnHzqQ0DVY7U"
      }
    },
    {
      "cell_type": "code",
      "source": [
        "a = int(input(\"enter first number:\"))\n",
        "b = int(input(\"enter second number:\"))\n",
        "c = a and b\n",
        "d = a or b\n",
        "print(c)\n",
        "print(d)"
      ],
      "metadata": {
        "id": "j0_Qdk7pTX3h"
      },
      "execution_count": null,
      "outputs": []
    },
    {
      "cell_type": "markdown",
      "source": [
        "9. Write a python program to convert user input from string to integer, float and boolean types."
      ],
      "metadata": {
        "id": "RC48PinAYcQ9"
      }
    },
    {
      "cell_type": "code",
      "source": [
        "user_input = input(\"Enter a value: \")\n",
        "integer_value = int(user_input)\n",
        "float_value = float(user_input)\n",
        "boolean_value = bool(user_input)\n",
        "#Boolean value of any data type other then 0 will be true. Also any string other then empty string\"\" will be true.\n",
        "print(\"Integer\", integer_value)\n",
        "print(\"Float\", float_value)\n",
        "print(\"Boolean\", boolean_value)"
      ],
      "metadata": {
        "id": "7ELGT0_TYbO1"
      },
      "execution_count": null,
      "outputs": []
    },
    {
      "cell_type": "markdown",
      "source": [
        "10. Write a code to demonstrate type casting with list elements."
      ],
      "metadata": {
        "id": "S4pEjHQGbomk"
      }
    },
    {
      "cell_type": "code",
      "source": [
        "my_list2 = [1, 2, 9.6, \"Manjula\", \"Yuvraj\", \"3.6\" ]\n",
        "a = str(my_list2[5])\n",
        "b = int(my_list2[2])\n",
        "c = float(my_list2[1])\n",
        "a\n",
        "b\n",
        "c"
      ],
      "metadata": {
        "id": "N4PMe4gwbkDw"
      },
      "execution_count": null,
      "outputs": []
    },
    {
      "cell_type": "markdown",
      "source": [
        "11. Write a program that checks if a number is positive, negative or zero."
      ],
      "metadata": {
        "id": "KeEi5L10eMI2"
      }
    },
    {
      "cell_type": "code",
      "source": [
        "a = input(\"Enter a number:\")\n",
        "if int(a)<0:\n",
        "  print(\"Number is negative\")\n",
        "elif int(a)==0:\n",
        "  print(\"The number is zero\")\n",
        "elif int(a)>0:\n",
        "  print(\"Number is positive\")"
      ],
      "metadata": {
        "id": "O-95ZQKmdVfB"
      },
      "execution_count": null,
      "outputs": []
    },
    {
      "cell_type": "markdown",
      "source": [
        "12. Write a loop to print numbers from 1 to 100."
      ],
      "metadata": {
        "id": "tv0zbVqvfQ-x"
      }
    },
    {
      "cell_type": "code",
      "source": [
        "for i in range(1,101):\n",
        "  print(i)"
      ],
      "metadata": {
        "id": "aw0ESJW0fPKu"
      },
      "execution_count": null,
      "outputs": []
    },
    {
      "cell_type": "markdown",
      "source": [
        "13. Write a python program to find the sum of all even numbers between 1 to 50."
      ],
      "metadata": {
        "id": "jGzUKyhTfr7h"
      }
    },
    {
      "cell_type": "code",
      "source": [
        "sum(range(2,50,2))\n"
      ],
      "metadata": {
        "id": "3a69QU5Dfq2r"
      },
      "execution_count": null,
      "outputs": []
    },
    {
      "cell_type": "markdown",
      "source": [
        "14. Write a program to reverse a string using a while loop."
      ],
      "metadata": {
        "id": "x2UTDdM1gS28"
      }
    },
    {
      "cell_type": "code",
      "source": [
        "text = input(\"Enter a string: \")\n",
        "\n",
        "i = len(text) - 1\n",
        "reversed_text = \"\"\n",
        "\n",
        "while i >= 0:\n",
        "    reversed_text = reversed_text + text[i]\n",
        "    i = i - 1\n",
        "print(\"Reversed string:\", reversed_text)"
      ],
      "metadata": {
        "id": "lB3dZpKbgeRH"
      },
      "execution_count": null,
      "outputs": []
    },
    {
      "cell_type": "markdown",
      "source": [
        "15. Write a Python program to calculate the factorial of a number provided by the user using a while loop."
      ],
      "metadata": {
        "id": "aHKB9BDIhUQU"
      }
    },
    {
      "cell_type": "code",
      "source": [
        "num = int(input(\"Enter a non-negative integer: \"))\n",
        "if num<0:\n",
        "  print(\"invalid input\")\n",
        "  factorial = 1\n",
        "  while num>=0:\n",
        "    factorial *= num\n",
        "    num-=1\n",
        "  print(\"Factorial is\", factorial )"
      ],
      "metadata": {
        "id": "L2qROgRwhSJb"
      },
      "execution_count": null,
      "outputs": []
    }
  ]
}